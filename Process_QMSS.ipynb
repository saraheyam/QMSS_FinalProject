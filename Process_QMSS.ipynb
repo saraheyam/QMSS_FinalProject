{
 "cells": [
  {
   "cell_type": "code",
   "execution_count": 31,
   "metadata": {},
   "outputs": [],
   "source": [
    "import pandas as pd\n",
    "import numpy as np"
   ]
  },
  {
   "cell_type": "code",
   "execution_count": 32,
   "metadata": {},
   "outputs": [],
   "source": [
    "empty = pd.read_csv(\"empty_PAC_preprocess.csv\", sep = ',', na_values = \"NA\", header = 0, index_col = 0)\n",
    "idv = pd.read_csv(\"idv_score_preprocess.csv\", sep = ',', na_values = \"NA\", header = 0, index_col = 0)"
   ]
  },
  {
   "cell_type": "code",
   "execution_count": 39,
   "metadata": {
    "scrolled": true
   },
   "outputs": [],
   "source": [
    "for i in range(len(idv)):\n",
    "    pac = idv.index.values[i]\n",
    "    name = idv.loc[pac][\"Measure.Name\"]\n",
    "    count_name = \"count_\" + idv.loc[pac][\"Measure.Name\"]\n",
    "    empty.loc[pac][name] = idv.loc[pac][\"Performance.Rate\"]\n",
    "    empty.loc[pac][count_name] = idv.loc[pac][\"Patient.Count\"]"
   ]
  },
  {
   "cell_type": "code",
   "execution_count": 27,
   "metadata": {
    "scrolled": true
   },
   "outputs": [
    {
     "data": {
      "text/plain": [
       "Measure.Name        Preventive Care and Screening\n",
       "Performance.Rate                              100\n",
       "Patient.Count                                 100\n",
       "NPI                                    1477666477\n",
       "Last.Name                                DEL PINO\n",
       "First.Name                               VIRGILIO\n",
       "Collection.Type                               CLM\n",
       "Name: 42100489, dtype: object"
      ]
     },
     "execution_count": 27,
     "metadata": {},
     "output_type": "execute_result"
    }
   ],
   "source": [
    "idv.loc[42100489]"
   ]
  },
  {
   "cell_type": "code",
   "execution_count": 48,
   "metadata": {},
   "outputs": [],
   "source": [
    "empty.to_csv(\"dr_by_measure.csv\", sep = \",\", header = True, index = True, index_label = \"PAC_id\")"
   ]
  }
 ],
 "metadata": {
  "kernelspec": {
   "display_name": "Python 3",
   "language": "python",
   "name": "python3"
  },
  "language_info": {
   "codemirror_mode": {
    "name": "ipython",
    "version": 3
   },
   "file_extension": ".py",
   "mimetype": "text/x-python",
   "name": "python",
   "nbconvert_exporter": "python",
   "pygments_lexer": "ipython3",
   "version": "3.6.7"
  }
 },
 "nbformat": 4,
 "nbformat_minor": 2
}
